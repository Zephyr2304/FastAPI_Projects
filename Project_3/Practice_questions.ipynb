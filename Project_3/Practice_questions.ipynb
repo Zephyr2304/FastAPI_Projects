{
 "cells": [
  {
   "attachments": {},
   "cell_type": "markdown",
   "metadata": {},
   "source": [
    "Assignment\n",
    "\n",
    "Here is your opportunity to keep learning!\n",
    "\n",
    "Recap what we have learned. We will be creating a new route that has a lot of functionality that we have learned thus far from FastAPI :)\n",
    "\n",
    "\n",
    "\n",
    "Create a new route within the routers directory called users.py\n",
    "\n",
    "Enhance users.py to be able to return all users within the application\n",
    "\n",
    "Enhance users.py to be able to get a single user by a path parameter\n",
    "\n",
    "Enhance users.py to be able to get a single user by a query parameter\n",
    "\n",
    "Enhance users.py to be able to modify their current user's password, if passed by authentication\n",
    "\n",
    "Enhance users.py to be able to delete their own user."
   ]
  },
  {
   "cell_type": "code",
   "execution_count": null,
   "metadata": {},
   "outputs": [],
   "source": []
  },
  {
   "attachments": {},
   "cell_type": "markdown",
   "metadata": {},
   "source": [
    "Assignment\n",
    "\n",
    "Here is your opportunity to keep learning!\n",
    "\n",
    "Let's enhance our application again using Alembic! :)\n",
    "\n",
    "\n",
    "\n",
    "Add a phone number as a required field for a user during registration (string).\n",
    "\n",
    "Create a new column on address, that is called “apt_num”\n",
    "\n",
    "Enable the application to now use the apt_num as an optional field for the address of the user"
   ]
  },
  {
   "cell_type": "code",
   "execution_count": null,
   "metadata": {},
   "outputs": [],
   "source": []
  }
 ],
 "metadata": {
  "kernelspec": {
   "display_name": ".venv",
   "language": "python",
   "name": "python3"
  },
  "language_info": {
   "name": "python",
   "version": "3.11.0"
  },
  "orig_nbformat": 4,
  "vscode": {
   "interpreter": {
    "hash": "33bd17047f02700ff40972324ee6aa16a9d8171596c26074a3c855ce3275a44f"
   }
  }
 },
 "nbformat": 4,
 "nbformat_minor": 2
}

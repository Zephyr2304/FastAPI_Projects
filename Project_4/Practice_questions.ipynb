{
 "cells": [
  {
   "attachments": {},
   "cell_type": "markdown",
   "metadata": {},
   "source": [
    "Assignment\n",
    "\n",
    "Here is your opportunity to keep learning!\n",
    "\n",
    "Let's now enhance our Full Stack application :)\n",
    "\n",
    "\n",
    "\n",
    "Create new template/UI for a user to change their password (be creative)\n",
    "\n",
    "There will need to be a form that includes the user's username, password and new password.\n",
    "\n",
    "Create new route  called users.py\n",
    "\n",
    "Add the ability to users.py to verify a user's username,  password and then change their current password"
   ]
  }
 ],
 "metadata": {
  "kernelspec": {
   "display_name": "fastvenv",
   "language": "python",
   "name": "python3"
  },
  "language_info": {
   "name": "python",
   "version": "3.11.0"
  },
  "orig_nbformat": 4,
  "vscode": {
   "interpreter": {
    "hash": "2475cd9810dd3c3dd059f8a3865ffd5ff842cb9f1fea77fdb99ec8ed9558883c"
   }
  }
 },
 "nbformat": 4,
 "nbformat_minor": 2
}

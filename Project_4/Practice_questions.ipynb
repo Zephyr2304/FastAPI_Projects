{
 "cells": [
  {
   "attachments": {},
   "cell_type": "markdown",
   "metadata": {},
   "source": [
    "Assignment\n",
    "\n",
    "Here is your opportunity to keep learning!\n",
    "\n",
    "Let's now enhance our Full Stack application :)\n",
    "\n",
    "\n",
    "\n",
    "Create new template/UI for a user to change their password (be creative)\n",
    "\n",
    "There will need to be a form that includes the user's username, password and new password.\n",
    "\n",
    "Create new route  called users.py\n",
    "\n",
    "Add the ability to users.py to verify a user's username,  password and then change their current password"
   ]
  },
  {
   "cell_type": "code",
   "execution_count": null,
   "metadata": {},
   "outputs": [],
   "source": []
  }
 ],
 "metadata": {
  "kernelspec": {
   "display_name": ".venv",
   "language": "python",
   "name": "python3"
  },
  "language_info": {
   "name": "python",
   "version": "3.11.0"
  },
  "orig_nbformat": 4,
  "vscode": {
   "interpreter": {
    "hash": "33bd17047f02700ff40972324ee6aa16a9d8171596c26074a3c855ce3275a44f"
   }
  }
 },
 "nbformat": 4,
 "nbformat_minor": 2
}

{
 "cells": [
  {
   "cell_type": "code",
   "execution_count": 9,
   "metadata": {},
   "outputs": [],
   "source": [
    "from IPython.core.interactiveshell import InteractiveShell\n",
    "InteractiveShell.ast_node_interactivity = \"all\""
   ]
  },
  {
   "attachments": {},
   "cell_type": "markdown",
   "metadata": {},
   "source": [
    "## Python Basic Questions and answers"
   ]
  },
  {
   "attachments": {},
   "cell_type": "markdown",
   "metadata": {},
   "source": [
    "\n",
    "Write a Python program that can do the following:\n",
    "- You have $50\n",
    "- You buy an item that is $15, that has a 3% tax\n",
    "- Using the print()  Print how much money you have left, after purchasing the item."
   ]
  },
  {
   "cell_type": "code",
   "execution_count": 10,
   "metadata": {},
   "outputs": [
    {
     "name": "stdout",
     "output_type": "stream",
     "text": [
      "34.55\n"
     ]
    }
   ],
   "source": [
    "wallet = 50\n",
    "item = 15\n",
    "tax = 0.03\n",
    "price = item +(item*tax)\n",
    "money_left = wallet - price\n",
    "print(money_left)"
   ]
  },
  {
   "attachments": {},
   "cell_type": "markdown",
   "metadata": {},
   "source": [
    "String Assignment. (This can be tricky so feel free to watch solution so we can do it together)\n",
    "- Ask the user how many days until their birthday\n",
    "- Using the print()function. Print an approx. number of weeks until their birthday\n",
    "- 1 week is = to 7 days"
   ]
  },
  {
   "cell_type": "code",
   "execution_count": 11,
   "metadata": {},
   "outputs": [
    {
     "name": "stdout",
     "output_type": "stream",
     "text": [
      "49\n"
     ]
    }
   ],
   "source": [
    "birth_date = int(input(\"How many day for your birthday\"))\n",
    "# print(f\"Week until their birthday {abs(birth_date/7)}\"\n",
    "print(round(birth_date/7))\n"
   ]
  },
  {
   "attachments": {},
   "cell_type": "markdown",
   "metadata": {},
   "source": [
    "- Create a list of 5 animals called zoo\n",
    "- Delete the animal at the 3rd index.\n",
    "- Append a new animal at the end of the list\n",
    "- Delete the animal at the beginning of the list.\n",
    "- Print all the animals\n",
    "- Print only the first 3 animals"
   ]
  },
  {
   "cell_type": "code",
   "execution_count": 21,
   "metadata": {},
   "outputs": [
    {
     "data": {
      "text/plain": [
       "'lion'"
      ]
     },
     "execution_count": 21,
     "metadata": {},
     "output_type": "execute_result"
    },
    {
     "name": "stdout",
     "output_type": "stream",
     "text": [
      "['cat', 'rat', 'zebra', 'tiger']\n",
      "['cat', 'rat', 'zebra']\n"
     ]
    }
   ],
   "source": [
    "\n",
    "\n",
    "zoo = [\"dog\",\"cat\",\"rat\",\"lion\",\"zebra\"]\n",
    "zoo.pop(3)\n",
    "zoo.append(\"tiger\")\n",
    "zoo.remove(zoo[0])\n",
    "print(zoo)\n",
    "print(zoo[0:3])\n"
   ]
  },
  {
   "attachments": {},
   "cell_type": "markdown",
   "metadata": {},
   "source": [
    "- Create a variable grade holding an integer between 0 - 100\n",
    "- Code if, elif, else statements to print the letter grade of the number grade variable\n",
    "- Grades:\n",
    "A = 90 - 100\n",
    "B = 80 - 89\n",
    "C = 70-79\n",
    "D = 60 - 69\n",
    "F = 0 - 59\n",
    "\n",
    "Example:\n",
    "if grade = 87 then print('B')"
   ]
  },
  {
   "cell_type": "code",
   "execution_count": 28,
   "metadata": {},
   "outputs": [
    {
     "name": "stdout",
     "output_type": "stream",
     "text": [
      "C\n"
     ]
    }
   ],
   "source": [
    "grade = 75\n",
    "\n",
    "if grade>=90:\n",
    "    print(\"A\")\n",
    "elif 80 <= grade<90:\n",
    "    print(\"B\")\n",
    "elif 70<= grade<80:\n",
    "    print(\"C\")\n",
    "elif 70<= grade<70:\n",
    "    print(\"D\")\n",
    "elif grade<=59:\n",
    "    print(\"F\")\n",
    "else:\n",
    "    print(grade)"
   ]
  },
  {
   "attachments": {},
   "cell_type": "markdown",
   "metadata": {},
   "source": [
    "Given: my_list = [\"Monday\", \"Tuesday\", \"Wednesday\", \"Thursday\", \"Friday\"]\n",
    "- Create a while loop that prints all elements of the my_list variable 3 times.\n",
    "- When printing the elements, use a for loop to print the elements\n",
    "- However, if the element of the for loop is equal to Monday, continue without printing"
   ]
  },
  {
   "cell_type": "code",
   "execution_count": 29,
   "metadata": {},
   "outputs": [
    {
     "name": "stdout",
     "output_type": "stream",
     "text": [
      "---------------\n",
      "Tuesday\n",
      "Wednesday\n",
      "Thursday\n",
      "Friday\n",
      "---------------\n",
      "Tuesday\n",
      "Wednesday\n",
      "Thursday\n",
      "Friday\n",
      "---------------\n",
      "Tuesday\n",
      "Wednesday\n",
      "Thursday\n",
      "Friday\n"
     ]
    }
   ],
   "source": [
    "my_list = [\"Monday\", \"Tuesday\", \"Wednesday\", \"Thursday\", \"Friday\"]\n",
    "x = 0\n",
    "while x <3:\n",
    "    x+=1\n",
    "    for i in my_list:\n",
    "        if i == \"Monday\":\n",
    "            print(\"---------------\")\n",
    "            continue\n",
    "        print(i)"
   ]
  },
  {
   "attachments": {},
   "cell_type": "markdown",
   "metadata": {},
   "source": [
    "Based on the dictionary:\n",
    "my_vehicle = {\n",
    "    \"model\": \"Ford\",\n",
    "    \"make\": \"Explorer\",\n",
    "    \"year\": 2018,\n",
    "    \"mileage\": 40000}\n",
    "- Create a for loop to print all keys and values\n",
    "- Create a new variable vehicle2, which is a copy of my_vehicle\n",
    "- Add a new key 'number_of_tires' to the vehicle2 variable that is equal to 4\n",
    "- Delete the mileage key and value from vehicle2\n",
    "- Print just the keys from vehicle2"
   ]
  },
  {
   "cell_type": "code",
   "execution_count": 30,
   "metadata": {},
   "outputs": [
    {
     "name": "stdout",
     "output_type": "stream",
     "text": [
      "('model', 'Ford')\n",
      "('make', 'Explorer')\n",
      "('year', 2018)\n",
      "('mileage', 40000)\n"
     ]
    },
    {
     "data": {
      "text/plain": [
       "40000"
      ]
     },
     "execution_count": 30,
     "metadata": {},
     "output_type": "execute_result"
    },
    {
     "name": "stdout",
     "output_type": "stream",
     "text": [
      "dict_keys(['model', 'make', 'year', 'number_of_tires'])\n"
     ]
    }
   ],
   "source": [
    "my_vehicle = {\n",
    "    \"model\": \"Ford\",\n",
    "    \"make\": \"Explorer\",\n",
    "    \"year\": 2018,\n",
    "    \"mileage\": 40000\n",
    "    }\n",
    "for i in my_vehicle.items():\n",
    "    print(i)\n",
    "\n",
    "vehicle2 = my_vehicle.copy()\n",
    "vehicle2[\"number_of_tires\"] = 4\n",
    "vehicle2.pop(\"mileage\")\n",
    "print(vehicle2.keys())\n"
   ]
  },
  {
   "attachments": {},
   "cell_type": "markdown",
   "metadata": {},
   "source": [
    "\n",
    "- Create a function that takes in 3 parameters(firstname, lastname, age) and\n",
    "returns a dictionary based on those values"
   ]
  },
  {
   "cell_type": "code",
   "execution_count": 31,
   "metadata": {},
   "outputs": [
    {
     "data": {
      "text/plain": [
       "{'firstname': 'aayush', 'lastname': 'singh', 'age': 21}"
      ]
     },
     "execution_count": 31,
     "metadata": {},
     "output_type": "execute_result"
    }
   ],
   "source": [
    "def demography(firstname,lastname,age):\n",
    "    return {\"firstname\":firstname,\"lastname\":lastname,\"age\":age}\n",
    "\n",
    "demography(\"aayush\",\"singh\",21)"
   ]
  }
 ],
 "metadata": {
  "kernelspec": {
   "display_name": ".venv",
   "language": "python",
   "name": "python3"
  },
  "language_info": {
   "codemirror_mode": {
    "name": "ipython",
    "version": 3
   },
   "file_extension": ".py",
   "mimetype": "text/x-python",
   "name": "python",
   "nbconvert_exporter": "python",
   "pygments_lexer": "ipython3",
   "version": "3.11.0"
  },
  "orig_nbformat": 4,
  "vscode": {
   "interpreter": {
    "hash": "33bd17047f02700ff40972324ee6aa16a9d8171596c26074a3c855ce3275a44f"
   }
  }
 },
 "nbformat": 4,
 "nbformat_minor": 2
}
